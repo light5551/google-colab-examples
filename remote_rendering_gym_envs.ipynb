{
  "nbformat": 4,
  "nbformat_minor": 0,
  "metadata": {
    "kernelspec": {
      "display_name": "Python 3",
      "language": "python",
      "name": "python3"
    },
    "language_info": {
      "codemirror_mode": {
        "name": "ipython",
        "version": 3
      },
      "file_extension": ".py",
      "mimetype": "text/x-python",
      "name": "python",
      "nbconvert_exporter": "python",
      "pygments_lexer": "ipython3",
      "version": "3.7.6"
    },
    "colab": {
      "name": "remote-rendering-gym-envs.ipynb",
      "provenance": [],
      "include_colab_link": true
    }
  },
  "cells": [
    {
      "cell_type": "markdown",
      "metadata": {
        "id": "view-in-github",
        "colab_type": "text"
      },
      "source": [
        "<a href=\"https://colab.research.google.com/github/light5551/google-colab-examples/blob/master/remote_rendering_gym_envs.ipynb\" target=\"_parent\"><img src=\"https://colab.research.google.com/assets/colab-badge.svg\" alt=\"Open In Colab\"/></a>"
      ]
    },
    {
      "cell_type": "markdown",
      "metadata": {
        "id": "e3n0cUcBZtrc"
      },
      "source": [
        "# Rendering OpenAI Gym Envs on Binder and Google Colab \n",
        "> Notes on solving a mildly tedious (but important) problem\n",
        "\n",
        "- branch: 2020-04-16-remote-rendering-gym-envs\n",
        "- badges: true\n",
        "- image: images/gym-colab-binder.png\n",
        "- comments: true\n",
        "- author: David R. Pugh\n",
        "- categories: [openai, binder, google-colab]"
      ]
    },
    {
      "cell_type": "markdown",
      "metadata": {
        "id": "UvwlFKybZtrf"
      },
      "source": [
        "Getting [OpenAI](https://openai.com/) [Gym](https://gym.openai.com/docs/) environments to render properly in remote environments such as [Google Colab](https://colab.research.google.com/notebooks/intro.ipynb) and [Binder](https://mybinder.org/) turned out to be more challenging than I expected. In this post I lay out my solution in the hopes that I might save others time and effort to work it out independently."
      ]
    },
    {
      "cell_type": "markdown",
      "metadata": {
        "id": "pP6Ddrm6Ztrg"
      },
      "source": [
        "# Google Colab Preamble\n",
        "\n",
        "If you wish to use Google Colab, then this section is for you! Otherwise, you can skip to the next section for the Binder Preamble."
      ]
    },
    {
      "cell_type": "markdown",
      "metadata": {
        "id": "u8YmnJpZZtrg"
      },
      "source": [
        "## Install X11 system dependencies\n",
        "\n",
        "Install necessary [X11](https://en.wikipedia.org/wiki/X_Window_System) dependencies, in particular [Xvfb](https://www.x.org/releases/X11R7.7/doc/man/man1/Xvfb.1.xhtml), which is an X server that can run on machines with no display hardware and no physical input devices. "
      ]
    },
    {
      "cell_type": "code",
      "metadata": {
        "id": "GU7yIo7uZtrg",
        "colab": {
          "base_uri": "https://localhost:8080/"
        },
        "outputId": "b56ff755-cd69-48ba-90e7-3d57f43548b0"
      },
      "source": [
        "!apt-get install -y xvfb x11-utils"
      ],
      "execution_count": null,
      "outputs": [
        {
          "output_type": "stream",
          "name": "stdout",
          "text": [
            "Reading package lists... Done\n",
            "Building dependency tree       \n",
            "Reading state information... Done\n",
            "The following additional packages will be installed:\n",
            "  libxxf86dga1\n",
            "Suggested packages:\n",
            "  mesa-utils\n",
            "The following NEW packages will be installed:\n",
            "  libxxf86dga1 x11-utils xvfb\n",
            "0 upgraded, 3 newly installed, 0 to remove and 37 not upgraded.\n",
            "Need to get 994 kB of archives.\n",
            "After this operation, 2,981 kB of additional disk space will be used.\n",
            "Get:1 http://archive.ubuntu.com/ubuntu bionic/main amd64 libxxf86dga1 amd64 2:1.1.4-1 [13.7 kB]\n",
            "Get:2 http://archive.ubuntu.com/ubuntu bionic/main amd64 x11-utils amd64 7.7+3build1 [196 kB]\n",
            "Get:3 http://archive.ubuntu.com/ubuntu bionic-updates/universe amd64 xvfb amd64 2:1.19.6-1ubuntu4.9 [784 kB]\n",
            "Fetched 994 kB in 1s (1,307 kB/s)\n",
            "Selecting previously unselected package libxxf86dga1:amd64.\n",
            "(Reading database ... 155047 files and directories currently installed.)\n",
            "Preparing to unpack .../libxxf86dga1_2%3a1.1.4-1_amd64.deb ...\n",
            "Unpacking libxxf86dga1:amd64 (2:1.1.4-1) ...\n",
            "Selecting previously unselected package x11-utils.\n",
            "Preparing to unpack .../x11-utils_7.7+3build1_amd64.deb ...\n",
            "Unpacking x11-utils (7.7+3build1) ...\n",
            "Selecting previously unselected package xvfb.\n",
            "Preparing to unpack .../xvfb_2%3a1.19.6-1ubuntu4.9_amd64.deb ...\n",
            "Unpacking xvfb (2:1.19.6-1ubuntu4.9) ...\n",
            "Setting up xvfb (2:1.19.6-1ubuntu4.9) ...\n",
            "Setting up libxxf86dga1:amd64 (2:1.1.4-1) ...\n",
            "Setting up x11-utils (7.7+3build1) ...\n",
            "Processing triggers for man-db (2.8.3-2ubuntu0.1) ...\n",
            "Processing triggers for libc-bin (2.27-3ubuntu1.3) ...\n",
            "/sbin/ldconfig.real: /usr/local/lib/python3.7/dist-packages/ideep4py/lib/libmkldnn.so.0 is not a symbolic link\n",
            "\n"
          ]
        }
      ]
    },
    {
      "cell_type": "markdown",
      "metadata": {
        "id": "hSfoj0_yZtrh"
      },
      "source": [
        "## Install additional Python dependencies\n",
        "\n",
        "Now that you have installed Xvfb, you need to install a Python wrapper \n",
        "[`pyvirtualdisplay`](https://github.com/ponty/PyVirtualDisplay) in order to interact with Xvfb \n",
        "virtual displays from within Python. Next you need to install the Python bindings for \n",
        "[OpenGL](https://www.opengl.org/): [PyOpenGL](http://pyopengl.sourceforge.net/) and \n",
        "[PyOpenGL-accelerate](https://pypi.org/project/PyOpenGL-accelerate/). The former are the actual \n",
        "Python bindings, the latter is and optional set of C (Cython) extensions providing acceleration of \n",
        "common operations for slow points in PyOpenGL 3.x."
      ]
    },
    {
      "cell_type": "code",
      "metadata": {
        "id": "1idg5ySzZtri",
        "colab": {
          "base_uri": "https://localhost:8080/"
        },
        "outputId": "657ab830-737b-4b63-8e03-ac1af9fc18f9"
      },
      "source": [
        "!pip install pyvirtualdisplay==0.2.* PyOpenGL==3.1.* PyOpenGL-accelerate==3.1.*"
      ],
      "execution_count": null,
      "outputs": [
        {
          "output_type": "stream",
          "name": "stdout",
          "text": [
            "Collecting pyvirtualdisplay==0.2.*\n",
            "  Downloading PyVirtualDisplay-0.2.5-py2.py3-none-any.whl (13 kB)\n",
            "Requirement already satisfied: PyOpenGL==3.1.* in /usr/local/lib/python3.7/dist-packages (3.1.5)\n",
            "Collecting PyOpenGL-accelerate==3.1.*\n",
            "  Downloading PyOpenGL-accelerate-3.1.5.tar.gz (538 kB)\n",
            "\u001b[K     |████████████████████████████████| 538 kB 5.9 MB/s \n",
            "\u001b[?25hCollecting EasyProcess\n",
            "  Downloading EasyProcess-0.3-py2.py3-none-any.whl (7.9 kB)\n",
            "Building wheels for collected packages: PyOpenGL-accelerate\n",
            "  Building wheel for PyOpenGL-accelerate (setup.py) ... \u001b[?25l\u001b[?25hdone\n",
            "  Created wheel for PyOpenGL-accelerate: filename=PyOpenGL_accelerate-3.1.5-cp37-cp37m-linux_x86_64.whl size=1599485 sha256=19d068ede1e8a43f7716df79b3868cbe57ad0fe955ebd5749364a4b35e0690e1\n",
            "  Stored in directory: /root/.cache/pip/wheels/1c/f5/6f/169afb3f2d476c5e807f8515b3c9bc9b819c3962316aa804eb\n",
            "Successfully built PyOpenGL-accelerate\n",
            "Installing collected packages: EasyProcess, pyvirtualdisplay, PyOpenGL-accelerate\n",
            "Successfully installed EasyProcess-0.3 PyOpenGL-accelerate-3.1.5 pyvirtualdisplay-0.2.5\n"
          ]
        }
      ]
    },
    {
      "cell_type": "markdown",
      "metadata": {
        "id": "hYS965YgZtri"
      },
      "source": [
        "## Install OpenAI Gym\n",
        "\n",
        "Next you need to install the OpenAI Gym package. Note that depending on which Gym environment you are interested in working with you may need to add additional dependencies. Since I am going to simulate the LunarLander-v2 environment in my demo below I need to install the `box2d` extra which enables Gym environments that depend on the [Box2D](https://box2d.org/) physics simulator."
      ]
    },
    {
      "cell_type": "code",
      "metadata": {
        "id": "NqRbjfzoZtrj",
        "colab": {
          "base_uri": "https://localhost:8080/"
        },
        "outputId": "78ed8a99-5131-4b52-c7cd-0a708ecdad4e"
      },
      "source": [
        "!pip install gym[box2d]==0.17.* "
      ],
      "execution_count": null,
      "outputs": [
        {
          "output_type": "stream",
          "name": "stdout",
          "text": [
            "Requirement already satisfied: gym[box2d]==0.17.* in /usr/local/lib/python3.7/dist-packages (0.17.3)\n",
            "Requirement already satisfied: scipy in /usr/local/lib/python3.7/dist-packages (from gym[box2d]==0.17.*) (1.4.1)\n",
            "Requirement already satisfied: numpy>=1.10.4 in /usr/local/lib/python3.7/dist-packages (from gym[box2d]==0.17.*) (1.19.5)\n",
            "Requirement already satisfied: cloudpickle<1.7.0,>=1.2.0 in /usr/local/lib/python3.7/dist-packages (from gym[box2d]==0.17.*) (1.3.0)\n",
            "Requirement already satisfied: pyglet<=1.5.0,>=1.4.0 in /usr/local/lib/python3.7/dist-packages (from gym[box2d]==0.17.*) (1.5.0)\n",
            "Collecting box2d-py~=2.3.5\n",
            "  Downloading box2d_py-2.3.8-cp37-cp37m-manylinux1_x86_64.whl (448 kB)\n",
            "\u001b[K     |████████████████████████████████| 448 kB 5.1 MB/s \n",
            "\u001b[?25hRequirement already satisfied: future in /usr/local/lib/python3.7/dist-packages (from pyglet<=1.5.0,>=1.4.0->gym[box2d]==0.17.*) (0.16.0)\n",
            "Installing collected packages: box2d-py\n",
            "Successfully installed box2d-py-2.3.8\n"
          ]
        }
      ]
    },
    {
      "cell_type": "markdown",
      "metadata": {
        "id": "zce0fq3nZtrj"
      },
      "source": [
        "## Create a virtual display in the background\n",
        "\n",
        "Next you need to create a virtual display in the background which the Gym Envs can connect to for rendering purposes. You can check that there is no display at present by confirming that the value of the [`DISPLAY`](https://askubuntu.com/questions/432255/what-is-the-display-environment-variable) environment variable has not yet been set. "
      ]
    },
    {
      "cell_type": "code",
      "metadata": {
        "id": "ApHAHYDNZtrk",
        "colab": {
          "base_uri": "https://localhost:8080/"
        },
        "outputId": "9b0190a8-1b39-4a59-9a7c-bedaafd2c4b3"
      },
      "source": [
        "!echo $DISPLAY"
      ],
      "execution_count": null,
      "outputs": [
        {
          "output_type": "stream",
          "name": "stdout",
          "text": [
            "\n"
          ]
        }
      ]
    },
    {
      "cell_type": "markdown",
      "metadata": {
        "id": "V4U_cXsuZtrk"
      },
      "source": [
        "The code in the cell below creates a virtual display in the background that your Gym Envs can connect to for rendering. You can adjust the `size` of the virtual buffer as you like but you must set `visible=False` when working with Xvfb. \n",
        "\n",
        "**This code only needs to be run once per session to start the display.**"
      ]
    },
    {
      "cell_type": "code",
      "metadata": {
        "id": "hyKRCEFNZtrk"
      },
      "source": [
        "import pyvirtualdisplay\n",
        "\n",
        "\n",
        "_display = pyvirtualdisplay.Display(visible=False,  # use False with Xvfb\n",
        "                                    size=(1400, 900))\n",
        "_ = _display.start()"
      ],
      "execution_count": null,
      "outputs": []
    },
    {
      "cell_type": "markdown",
      "metadata": {
        "id": "fFpa10DzZtrl"
      },
      "source": [
        "After running the cell above you can echo out the value of the `DISPLAY` environment variable again to confirm that you now have a display running."
      ]
    },
    {
      "cell_type": "code",
      "metadata": {
        "id": "20g4hLf3Ztrl",
        "colab": {
          "base_uri": "https://localhost:8080/"
        },
        "outputId": "a74ccf72-0d2b-4f62-fa89-73f155d79d22"
      },
      "source": [
        "!echo $DISPLAY"
      ],
      "execution_count": null,
      "outputs": [
        {
          "output_type": "stream",
          "name": "stdout",
          "text": [
            ":1005\n"
          ]
        }
      ]
    },
    {
      "cell_type": "markdown",
      "metadata": {
        "id": "jN2f-BJCZtrl"
      },
      "source": [
        "For convenience I have gathered the above steps into two cells that you can copy and paste into the top of you Google Colab notebooks."
      ]
    },
    {
      "cell_type": "code",
      "metadata": {
        "id": "3TisENHzZtrl",
        "colab": {
          "base_uri": "https://localhost:8080/"
        },
        "outputId": "dfd81ba5-6524-4efc-9d2a-880acfda0ebd"
      },
      "source": [
        "%%bash\n",
        "\n",
        "# install required system dependencies\n",
        "apt-get install -y xvfb x11-utils\n",
        "\n",
        "# install required python dependencies (might need to install additional gym extras depending)\n",
        "pip install gym[box2d]==0.17.* pyvirtualdisplay==0.2.* PyOpenGL==3.1.* PyOpenGL-accelerate==3.1.*"
      ],
      "execution_count": null,
      "outputs": [
        {
          "output_type": "stream",
          "name": "stdout",
          "text": [
            "Reading package lists...\n",
            "Building dependency tree...\n",
            "Reading state information...\n",
            "x11-utils is already the newest version (7.7+3build1).\n",
            "xvfb is already the newest version (2:1.19.6-1ubuntu4.9).\n",
            "0 upgraded, 0 newly installed, 0 to remove and 37 not upgraded.\n",
            "Requirement already satisfied: gym[box2d]==0.17.* in /usr/local/lib/python3.7/dist-packages (0.17.3)\n",
            "Requirement already satisfied: pyvirtualdisplay==0.2.* in /usr/local/lib/python3.7/dist-packages (0.2.5)\n",
            "Requirement already satisfied: PyOpenGL==3.1.* in /usr/local/lib/python3.7/dist-packages (3.1.5)\n",
            "Requirement already satisfied: PyOpenGL-accelerate==3.1.* in /usr/local/lib/python3.7/dist-packages (3.1.5)\n",
            "Requirement already satisfied: EasyProcess in /usr/local/lib/python3.7/dist-packages (from pyvirtualdisplay==0.2.*) (0.3)\n",
            "Requirement already satisfied: pyglet<=1.5.0,>=1.4.0 in /usr/local/lib/python3.7/dist-packages (from gym[box2d]==0.17.*) (1.5.0)\n",
            "Requirement already satisfied: cloudpickle<1.7.0,>=1.2.0 in /usr/local/lib/python3.7/dist-packages (from gym[box2d]==0.17.*) (1.3.0)\n",
            "Requirement already satisfied: numpy>=1.10.4 in /usr/local/lib/python3.7/dist-packages (from gym[box2d]==0.17.*) (1.19.5)\n",
            "Requirement already satisfied: scipy in /usr/local/lib/python3.7/dist-packages (from gym[box2d]==0.17.*) (1.4.1)\n",
            "Requirement already satisfied: box2d-py~=2.3.5 in /usr/local/lib/python3.7/dist-packages (from gym[box2d]==0.17.*) (2.3.8)\n",
            "Requirement already satisfied: future in /usr/local/lib/python3.7/dist-packages (from pyglet<=1.5.0,>=1.4.0->gym[box2d]==0.17.*) (0.16.0)\n"
          ]
        }
      ]
    },
    {
      "cell_type": "code",
      "metadata": {
        "id": "fK_c9wNtZtrm"
      },
      "source": [
        "import pyvirtualdisplay\n",
        "\n",
        "\n",
        "_display = pyvirtualdisplay.Display(visible=False,  # use False with Xvfb\n",
        "                                    size=(1400, 900))\n",
        "_ = _display.start()"
      ],
      "execution_count": null,
      "outputs": []
    },
    {
      "cell_type": "markdown",
      "metadata": {
        "id": "Y3t406iKZtrm"
      },
      "source": [
        "# Binder Preamble\n",
        "\n",
        "If you wish to use Binder, then this section is for you! Although there really isn't much of anything that needs doing."
      ]
    },
    {
      "cell_type": "markdown",
      "metadata": {
        "id": "qvsF2R0EZtrm"
      },
      "source": [
        "## No additional installation required!\n",
        "\n",
        "Unlike Google Colab, with Binder you can bake all the required dependencies (including the X11 system dependencies!) into the Docker image on which the Binder instance is based using Binder config files. These config files can either live in the root directory of your Git repo or in a `binder` sub-directory as is this case here. If you are interested in learning more about Binder, then check out the documentation for [BinderHub](https://binderhub.readthedocs.io/en/latest/) which is the underlying technology behind the Binder project."
      ]
    },
    {
      "cell_type": "code",
      "metadata": {
        "id": "kyGPFp29Ztrm",
        "colab": {
          "base_uri": "https://localhost:8080/"
        },
        "outputId": "12564f3a-785b-4c09-b451-0058fba28e38"
      },
      "source": [
        "# config file for system dependencies\n",
        "!cat ../binder/apt.txt"
      ],
      "execution_count": null,
      "outputs": [
        {
          "output_type": "stream",
          "name": "stdout",
          "text": [
            "cat: ../binder/apt.txt: No such file or directory\n"
          ]
        }
      ]
    },
    {
      "cell_type": "code",
      "metadata": {
        "id": "MrG4xrNlZtrn",
        "colab": {
          "base_uri": "https://localhost:8080/"
        },
        "outputId": "ab79ef61-fda4-4d6c-eadc-5bb3c7f6c4fb"
      },
      "source": [
        "# config file describing the conda environment\n",
        "!cat ../binder/environment.yml"
      ],
      "execution_count": null,
      "outputs": [
        {
          "output_type": "stream",
          "name": "stdout",
          "text": [
            "cat: ../binder/environment.yml: No such file or directory\n"
          ]
        }
      ]
    },
    {
      "cell_type": "code",
      "metadata": {
        "id": "_rN_OZkgZtrn",
        "outputId": "1f0ec866-1e57-41d0-dde2-071576860717"
      },
      "source": [
        "# config file containing python deps not avaiable via conda channels\n",
        "!cat ../binder/requirements.txt"
      ],
      "execution_count": null,
      "outputs": [
        {
          "name": "stdout",
          "output_type": "stream",
          "text": [
            "PyOpenGL==3.1.*\n",
            "PyOpenGL-accelerate==3.1.*\n"
          ]
        }
      ]
    },
    {
      "cell_type": "markdown",
      "metadata": {
        "id": "IgY4caVJZtro"
      },
      "source": [
        "## Create a virtual display in the background\n",
        "\n",
        "Next you need to create a virtual display in the background which the Gym Envs can connect to for rendering purposes. You can check that there is no display at present by confirming that the value of the [`DISPLAY`](https://askubuntu.com/questions/432255/what-is-the-display-environment-variable) environment variable has not yet been set."
      ]
    },
    {
      "cell_type": "code",
      "metadata": {
        "id": "IxNziwAFZtro",
        "colab": {
          "base_uri": "https://localhost:8080/"
        },
        "outputId": "8ccb0370-a696-4c2a-9db7-4d2daabe33eb"
      },
      "source": [
        "!echo $DISPLAY"
      ],
      "execution_count": null,
      "outputs": [
        {
          "output_type": "stream",
          "name": "stdout",
          "text": [
            ":1009\n"
          ]
        }
      ]
    },
    {
      "cell_type": "markdown",
      "metadata": {
        "id": "bHDFRK1vZtro"
      },
      "source": [
        "The code in the cell below creates a virtual display in the background that your Gym Envs can connect to for rendering. You can adjust the `size` of the virtual buffer as you like but you must set `visible=False` when working with Xvfb. \n",
        "\n",
        "**This code only needs to be run once per session to start the display.**"
      ]
    },
    {
      "cell_type": "code",
      "metadata": {
        "id": "s43XTBe1Ztro",
        "colab": {
          "base_uri": "https://localhost:8080/"
        },
        "outputId": "93ce2242-8ec2-46a0-a92f-710a6426d1ba"
      },
      "source": [
        "import pyvirtualdisplay\n",
        "\n",
        "\n",
        "_display = pyvirtualdisplay.Display(visible=False,  # use False with Xvfb\n",
        "                                    size=(1400, 900))\n",
        "_display.start()"
      ],
      "execution_count": null,
      "outputs": [
        {
          "output_type": "execute_result",
          "data": {
            "text/plain": [
              "<Display cmd_param=['Xvfb', '-br', '-nolisten', 'tcp', '-screen', '0', '1400x900x24', ':1013'] cmd=['Xvfb', '-br', '-nolisten', 'tcp', '-screen', '0', '1400x900x24', ':1013'] oserror=None return_code=None stdout=\"None\" stderr=\"None\" timeout_happened=False>"
            ]
          },
          "metadata": {},
          "execution_count": 13
        }
      ]
    },
    {
      "cell_type": "markdown",
      "metadata": {
        "id": "xfMZ4MagZtro"
      },
      "source": [
        "After running the cell above you can echo out the value of the `DISPLAY` environment variable again to confirm that you now have a display running."
      ]
    },
    {
      "cell_type": "code",
      "metadata": {
        "id": "rXzOFXwRZtro",
        "colab": {
          "base_uri": "https://localhost:8080/"
        },
        "outputId": "15aec562-c9b8-4de5-a020-69ff0133ce9b"
      },
      "source": [
        "!echo $DISPLAY"
      ],
      "execution_count": null,
      "outputs": [
        {
          "output_type": "stream",
          "name": "stdout",
          "text": [
            ":1013\n"
          ]
        }
      ]
    },
    {
      "cell_type": "markdown",
      "metadata": {
        "id": "8K0sZ-z4Ztro"
      },
      "source": [
        "# Demo\n",
        "\n",
        "Just to prove that the above setup works as advertised I will run a short simulation. First I will define an `Agent` that chooses an action randomly from the set of possible actions and the define a function that can be used to create such agents."
      ]
    },
    {
      "cell_type": "code",
      "metadata": {
        "id": "t9V84Wu_Ztro"
      },
      "source": [
        "import typing\n",
        "\n",
        "import numpy as np\n",
        "\n",
        "\n",
        "# represent states as arrays and actions as ints\n",
        "State = np.array\n",
        "Action = int\n",
        "\n",
        "# agent is just a function! \n",
        "Agent = typing.Callable[[State], Action]\n",
        "\n",
        "\n",
        "def uniform_random_policy(state: State,\n",
        "                          number_actions: int,\n",
        "                          random_state: np.random.RandomState) -> Action:\n",
        "    \"\"\"Select an action at random from the set of feasible actions.\"\"\"\n",
        "    feasible_actions = np.arange(number_actions)\n",
        "    probs = np.ones(number_actions) / number_actions\n",
        "    action = random_state.choice(feasible_actions, p=probs)\n",
        "    return action\n",
        "\n",
        "\n",
        "def make_random_agent(number_actions: int,\n",
        "                      random_state: np.random.RandomState = None) -> Agent:\n",
        "    \"\"\"Factory for creating an Agent.\"\"\"\n",
        "    _random_state = np.random.RandomState() if random_state is None else random_state\n",
        "    return lambda state: uniform_random_policy(state, number_actions, _random_state)\n",
        "    "
      ],
      "execution_count": null,
      "outputs": []
    },
    {
      "cell_type": "markdown",
      "metadata": {
        "id": "c65Uzb0cZtrp"
      },
      "source": [
        "In the cell below I wrap up the code to simulate a single epsiode of an OpenAI Gym environment. Note that the implementation assumes that the provided environment supports `rgb_array` rendering (which not all Gym environments support!)."
      ]
    },
    {
      "cell_type": "code",
      "metadata": {
        "id": "2z2YGKdDZtrp"
      },
      "source": [
        "import gym\n",
        "import matplotlib.pyplot as plt\n",
        "from IPython import display\n",
        "\n",
        "\n",
        "def simulate(agent: Agent, env: gym.Env) -> None:\n",
        "    state = env.reset()\n",
        "    img = plt.imshow(env.render(mode='rgb_array'))\n",
        "    done = False\n",
        "    while not done:\n",
        "        action = agent(state)\n",
        "        img.set_data(env.render(mode='rgb_array')) \n",
        "        plt.axis('off')\n",
        "        display.display(plt.gcf())\n",
        "        display.clear_output(wait=True)\n",
        "        state, reward, done, _ = env.step(action)       \n",
        "    env.close()\n",
        "    \n"
      ],
      "execution_count": null,
      "outputs": []
    },
    {
      "cell_type": "markdown",
      "metadata": {
        "id": "nKFoLXqSZtrp"
      },
      "source": [
        "Finally you can setup your desired environment..."
      ]
    },
    {
      "cell_type": "code",
      "metadata": {
        "id": "SzQhUYguZtrp"
      },
      "source": [
        "lunar_lander_v2 = gym.make('LunarLander-v2')\n",
        "_ = lunar_lander_v2.seed(42)"
      ],
      "execution_count": null,
      "outputs": []
    },
    {
      "cell_type": "markdown",
      "metadata": {
        "id": "LqIbhDXVZtrp"
      },
      "source": [
        "...and run a simulation!"
      ]
    },
    {
      "cell_type": "code",
      "metadata": {
        "id": "SbtFJdadZtrp",
        "colab": {
          "base_uri": "https://localhost:8080/",
          "height": 248
        },
        "outputId": "d88d83f1-d3e0-430b-91bb-4ddfb68a8833"
      },
      "source": [
        "random_agent = make_random_agent(lunar_lander_v2.action_space.n, random_state=None)\n",
        "simulate(random_agent, lunar_lander_v2)"
      ],
      "execution_count": null,
      "outputs": [
        {
          "output_type": "display_data",
          "data": {
            "image/png": "[encoded data removed]",
            "text/plain": [
              "<Figure size 432x288 with 1 Axes>"
            ]
          },
          "metadata": {
            "needs_background": "light"
          }
        }
      ]
    },
    {
      "cell_type": "markdown",
      "metadata": {
        "id": "mJNWHekAZtrp"
      },
      "source": [
        "Currently there appears to be a non-trivial amount of flickering during the simulation. Not entirely sure what is causing this undesireable behavior. If you have any idea how to improve this, please leave a comment below. I will be sure to update this post accordingly if I find a good fix."
      ]
    }
  ]
}